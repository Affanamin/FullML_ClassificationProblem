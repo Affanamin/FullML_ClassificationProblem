{
 "cells": [
  {
   "cell_type": "code",
   "execution_count": 1,
   "metadata": {},
   "outputs": [],
   "source": [
    "# data analysis and wrangling\n",
    "import pandas as pd\n",
    "import numpy as np\n",
    "import random as rnd\n",
    "\n",
    "# visualization\n",
    "import seaborn as sns\n",
    "import matplotlib.pyplot as plt\n",
    "%matplotlib inline\n",
    "\n",
    "# machine learning\n",
    "#from sklearn.linear_model import LogisticRegression\n",
    "#from sklearn.svm import SVC, LinearSVC\n",
    "#from sklearn.ensemble import RandomForestClassifier\n",
    "#from sklearn.neighbors import KNeighborsClassifier\n",
    "#from sklearn.naive_bayes import GaussianNB\n",
    "#from sklearn.linear_model import Perceptron\n",
    "#from sklearn.linear_model import SGDClassifier\n",
    "#from sklearn.tree import DecisionTreeClassifier"
   ]
  },
  {
   "cell_type": "code",
   "execution_count": 2,
   "metadata": {},
   "outputs": [
    {
     "name": "stdout",
     "output_type": "stream",
     "text": [
      "891\n",
      "418\n"
     ]
    }
   ],
   "source": [
    "data_train = pd.read_csv('train.csv') #Never place header = None\n",
    "data_test =  pd.read_csv('test.csv')\n",
    "data_train.columns = ['Pid','Survived', 'Pclass','Name','Sex','Age','Sibsp','Parch','Ticket','Fare','Cabin','Embarked']\n",
    "data_test.columns =  ['Pid', 'Pclass','Name','Sex','Age','Sibsp','Parch','Ticket','Fare','Cabin','Embarked']\n",
    "\n",
    "print(len(data_train));\n",
    "print(len(data_test));\n"
   ]
  },
  {
   "cell_type": "code",
   "execution_count": 3,
   "metadata": {},
   "outputs": [
    {
     "name": "stdout",
     "output_type": "stream",
     "text": [
      "<class 'pandas.core.frame.DataFrame'>\n",
      "RangeIndex: 891 entries, 0 to 890\n",
      "Data columns (total 12 columns):\n",
      "Pid         891 non-null int64\n",
      "Survived    891 non-null int64\n",
      "Pclass      891 non-null int64\n",
      "Name        891 non-null object\n",
      "Sex         891 non-null object\n",
      "Age         714 non-null float64\n",
      "Sibsp       891 non-null int64\n",
      "Parch       891 non-null int64\n",
      "Ticket      891 non-null object\n",
      "Fare        891 non-null float64\n",
      "Cabin       204 non-null object\n",
      "Embarked    889 non-null object\n",
      "dtypes: float64(2), int64(5), object(5)\n",
      "memory usage: 83.7+ KB\n",
      "<class 'pandas.core.frame.DataFrame'>\n",
      "RangeIndex: 418 entries, 0 to 417\n",
      "Data columns (total 11 columns):\n",
      "Pid         418 non-null int64\n",
      "Pclass      418 non-null int64\n",
      "Name        418 non-null object\n",
      "Sex         418 non-null object\n",
      "Age         332 non-null float64\n",
      "Sibsp       418 non-null int64\n",
      "Parch       418 non-null int64\n",
      "Ticket      418 non-null object\n",
      "Fare        417 non-null float64\n",
      "Cabin       91 non-null object\n",
      "Embarked    418 non-null object\n",
      "dtypes: float64(2), int64(4), object(5)\n",
      "memory usage: 36.0+ KB\n"
     ]
    }
   ],
   "source": [
    "data_train.info()\n",
    "data_test.info()\n"
   ]
  },
  {
   "cell_type": "code",
   "execution_count": 4,
   "metadata": {},
   "outputs": [
    {
     "name": "stdout",
     "output_type": "stream",
     "text": [
      "   Pid  Survived  Pclass                                               Name  \\\n",
      "1    2         1       1  Cumings, Mrs. John Bradley (Florence Briggs Th...   \n",
      "2    3         1       3                             Heikkinen, Miss. Laina   \n",
      "3    4         1       1       Futrelle, Mrs. Jacques Heath (Lily May Peel)   \n",
      "4    5         0       3                           Allen, Mr. William Henry   \n",
      "5    6         0       3                                   Moran, Mr. James   \n",
      "\n",
      "      Sex   Age  Sibsp  Parch            Ticket     Fare Cabin Embarked  \n",
      "1  female  38.0      1      0          PC 17599  71.2833   C85        C  \n",
      "2  female  26.0      0      0  STON/O2. 3101282   7.9250   NaN        S  \n",
      "3  female  35.0      1      0            113803  53.1000  C123        S  \n",
      "4    male  35.0      0      0            373450   8.0500   NaN        S  \n",
      "5    male   NaN      0      0            330877   8.4583   NaN        Q  \n",
      "   Pid  Pclass                                          Name     Sex   Age  \\\n",
      "1  893       3              Wilkes, Mrs. James (Ellen Needs)  female  47.0   \n",
      "2  894       2                     Myles, Mr. Thomas Francis    male  62.0   \n",
      "3  895       3                              Wirz, Mr. Albert    male  27.0   \n",
      "4  896       3  Hirvonen, Mrs. Alexander (Helga E Lindqvist)  female  22.0   \n",
      "5  897       3                    Svensson, Mr. Johan Cervin    male  14.0   \n",
      "\n",
      "   Sibsp  Parch   Ticket     Fare Cabin Embarked  \n",
      "1      1      0   363272   7.0000   NaN        S  \n",
      "2      0      0   240276   9.6875   NaN        Q  \n",
      "3      0      0   315154   8.6625   NaN        S  \n",
      "4      1      1  3101298  12.2875   NaN        S  \n",
      "5      0      0     7538   9.2250   NaN        S  \n"
     ]
    }
   ],
   "source": [
    "#data_train = data_train.iloc[0:]\n",
    "data_train.drop(data_train.head(1).index, inplace=True)\n",
    "print(data_train.head())\n",
    "data_test.drop(data_test.head(1).index, inplace=True)\n",
    "print(data_test.head())"
   ]
  },
  {
   "cell_type": "code",
   "execution_count": 5,
   "metadata": {},
   "outputs": [],
   "source": [
    "data_train = data_train.drop(['Pid'],axis = 1)"
   ]
  },
  {
   "cell_type": "code",
   "execution_count": 6,
   "metadata": {},
   "outputs": [
    {
     "data": {
      "text/html": [
       "<div>\n",
       "<style scoped>\n",
       "    .dataframe tbody tr th:only-of-type {\n",
       "        vertical-align: middle;\n",
       "    }\n",
       "\n",
       "    .dataframe tbody tr th {\n",
       "        vertical-align: top;\n",
       "    }\n",
       "\n",
       "    .dataframe thead th {\n",
       "        text-align: right;\n",
       "    }\n",
       "</style>\n",
       "<table border=\"1\" class=\"dataframe\">\n",
       "  <thead>\n",
       "    <tr style=\"text-align: right;\">\n",
       "      <th></th>\n",
       "      <th>Survived</th>\n",
       "      <th>Pclass</th>\n",
       "      <th>Name</th>\n",
       "      <th>Sex</th>\n",
       "      <th>Age</th>\n",
       "      <th>Sibsp</th>\n",
       "      <th>Parch</th>\n",
       "      <th>Ticket</th>\n",
       "      <th>Fare</th>\n",
       "      <th>Cabin</th>\n",
       "      <th>Embarked</th>\n",
       "    </tr>\n",
       "  </thead>\n",
       "  <tbody>\n",
       "    <tr>\n",
       "      <td>1</td>\n",
       "      <td>1</td>\n",
       "      <td>1</td>\n",
       "      <td>Cumings, Mrs. John Bradley (Florence Briggs Th...</td>\n",
       "      <td>female</td>\n",
       "      <td>38.0</td>\n",
       "      <td>1</td>\n",
       "      <td>0</td>\n",
       "      <td>PC 17599</td>\n",
       "      <td>71.2833</td>\n",
       "      <td>C85</td>\n",
       "      <td>C</td>\n",
       "    </tr>\n",
       "    <tr>\n",
       "      <td>2</td>\n",
       "      <td>1</td>\n",
       "      <td>3</td>\n",
       "      <td>Heikkinen, Miss. Laina</td>\n",
       "      <td>female</td>\n",
       "      <td>26.0</td>\n",
       "      <td>0</td>\n",
       "      <td>0</td>\n",
       "      <td>STON/O2. 3101282</td>\n",
       "      <td>7.9250</td>\n",
       "      <td>NaN</td>\n",
       "      <td>S</td>\n",
       "    </tr>\n",
       "    <tr>\n",
       "      <td>3</td>\n",
       "      <td>1</td>\n",
       "      <td>1</td>\n",
       "      <td>Futrelle, Mrs. Jacques Heath (Lily May Peel)</td>\n",
       "      <td>female</td>\n",
       "      <td>35.0</td>\n",
       "      <td>1</td>\n",
       "      <td>0</td>\n",
       "      <td>113803</td>\n",
       "      <td>53.1000</td>\n",
       "      <td>C123</td>\n",
       "      <td>S</td>\n",
       "    </tr>\n",
       "    <tr>\n",
       "      <td>4</td>\n",
       "      <td>0</td>\n",
       "      <td>3</td>\n",
       "      <td>Allen, Mr. William Henry</td>\n",
       "      <td>male</td>\n",
       "      <td>35.0</td>\n",
       "      <td>0</td>\n",
       "      <td>0</td>\n",
       "      <td>373450</td>\n",
       "      <td>8.0500</td>\n",
       "      <td>NaN</td>\n",
       "      <td>S</td>\n",
       "    </tr>\n",
       "    <tr>\n",
       "      <td>5</td>\n",
       "      <td>0</td>\n",
       "      <td>3</td>\n",
       "      <td>Moran, Mr. James</td>\n",
       "      <td>male</td>\n",
       "      <td>NaN</td>\n",
       "      <td>0</td>\n",
       "      <td>0</td>\n",
       "      <td>330877</td>\n",
       "      <td>8.4583</td>\n",
       "      <td>NaN</td>\n",
       "      <td>Q</td>\n",
       "    </tr>\n",
       "  </tbody>\n",
       "</table>\n",
       "</div>"
      ],
      "text/plain": [
       "   Survived  Pclass                                               Name  \\\n",
       "1         1       1  Cumings, Mrs. John Bradley (Florence Briggs Th...   \n",
       "2         1       3                             Heikkinen, Miss. Laina   \n",
       "3         1       1       Futrelle, Mrs. Jacques Heath (Lily May Peel)   \n",
       "4         0       3                           Allen, Mr. William Henry   \n",
       "5         0       3                                   Moran, Mr. James   \n",
       "\n",
       "      Sex   Age  Sibsp  Parch            Ticket     Fare Cabin Embarked  \n",
       "1  female  38.0      1      0          PC 17599  71.2833   C85        C  \n",
       "2  female  26.0      0      0  STON/O2. 3101282   7.9250   NaN        S  \n",
       "3  female  35.0      1      0            113803  53.1000  C123        S  \n",
       "4    male  35.0      0      0            373450   8.0500   NaN        S  \n",
       "5    male   NaN      0      0            330877   8.4583   NaN        Q  "
      ]
     },
     "execution_count": 6,
     "metadata": {},
     "output_type": "execute_result"
    }
   ],
   "source": [
    "data_train.head()"
   ]
  },
  {
   "cell_type": "code",
   "execution_count": 7,
   "metadata": {},
   "outputs": [],
   "source": [
    "data_train.to_csv(\"training-data.csv\")"
   ]
  },
  {
   "cell_type": "code",
   "execution_count": 8,
   "metadata": {},
   "outputs": [
    {
     "name": "stdout",
     "output_type": "stream",
     "text": [
      "     Survived  Pclass                                      Name     Sex   Age  \\\n",
      "886         0       2                     Montvila, Rev. Juozas    male  27.0   \n",
      "887         1       1              Graham, Miss. Margaret Edith  female  19.0   \n",
      "888         0       3  Johnston, Miss. Catherine Helen \"Carrie\"  female   NaN   \n",
      "889         1       1                     Behr, Mr. Karl Howell    male  26.0   \n",
      "890         0       3                       Dooley, Mr. Patrick    male  32.0   \n",
      "\n",
      "     Sibsp  Parch      Ticket   Fare Cabin Embarked  \n",
      "886      0      0      211536  13.00   NaN        S  \n",
      "887      0      0      112053  30.00   B42        S  \n",
      "888      1      2  W./C. 6607  23.45   NaN        S  \n",
      "889      0      0      111369  30.00  C148        C  \n",
      "890      0      0      370376   7.75   NaN        Q  \n",
      "\n",
      " Columns are \n",
      "\n",
      "Index(['Survived', 'Pclass', 'Name', 'Sex', 'Age', 'Sibsp', 'Parch', 'Ticket',\n",
      "       'Fare', 'Cabin', 'Embarked'],\n",
      "      dtype='object')\n"
     ]
    }
   ],
   "source": [
    "print(data_train.tail())\n",
    "print(\"\\n Columns are \\n\")\n",
    "print(data_train.columns)"
   ]
  },
  {
   "cell_type": "markdown",
   "metadata": {},
   "source": [
    "Q1-Which features are categorical?\n",
    "\n",
    "These values classify the samples into sets of similar samples. Within categorical features are the values nominal, ordinal, ratio, or interval based? Among other things this helps us select the appropriate plots for visualization.\n",
    "\n",
    "Categorical: Survived, Sex, and Embarked. \n",
    "Ordinal: Pclass.\n",
    "\n",
    "Q2-Which features are numerical? \n",
    "These values change from sample to sample. Within numerical features are the values discrete, continuous, or timeseries based? Among other things this helps us select the appropriate plots for visualization.\n",
    "\n",
    "Continous: Age, Fare. \n",
    "Discrete: SibSp, Parch.\n",
    "\n",
    "Q3-Which features are mixed data types?\n",
    "\n",
    "Numerical, alphanumeric data within same feature. These are candidates for correcting goal.\n",
    "\n",
    "Ticket is a mix of numeric and alphanumeric data types. \n",
    "Cabin is alphanumeric.\n",
    "\n"
   ]
  },
  {
   "cell_type": "markdown",
   "metadata": {},
   "source": [
    "Q4- Which features may contain errors or typos?\n",
    "\n",
    "This is harder to review for a large dataset, however reviewing a few samples from a smaller dataset may just tell us outright, which features may require correcting.\n",
    "\n",
    "Name feature may contain errors or typos as there are several ways used to describe a name including titles, round brackets, and quotes used for alternative or short names."
   ]
  },
  {
   "cell_type": "markdown",
   "metadata": {},
   "source": [
    "Q5- Which features contain blank, null or empty values?"
   ]
  },
  {
   "cell_type": "code",
   "execution_count": 9,
   "metadata": {},
   "outputs": [
    {
     "name": "stdout",
     "output_type": "stream",
     "text": [
      "Survived      0\n",
      "Pclass        0\n",
      "Name          0\n",
      "Sex           0\n",
      "Age         177\n",
      "Sibsp         0\n",
      "Parch         0\n",
      "Ticket        0\n",
      "Fare          0\n",
      "Cabin       686\n",
      "Embarked      2\n",
      "dtype: int64\n"
     ]
    }
   ],
   "source": [
    "print(data_train.isnull().sum())"
   ]
  },
  {
   "cell_type": "markdown",
   "metadata": {},
   "source": [
    "These will require correcting.\n",
    "\n",
    "Cabin > Age > Embarked features contain a number of null values in that order for the training dataset.\n",
    "Cabin > Age are incomplete in case of test dataset."
   ]
  },
  {
   "cell_type": "markdown",
   "metadata": {},
   "source": [
    "Q6- What are the data types for various features?"
   ]
  },
  {
   "cell_type": "code",
   "execution_count": 10,
   "metadata": {},
   "outputs": [
    {
     "ename": "AttributeError",
     "evalue": "'DataFrame' object has no attribute 'Pid'",
     "output_type": "error",
     "traceback": [
      "\u001b[1;31m---------------------------------------------------------------------------\u001b[0m",
      "\u001b[1;31mAttributeError\u001b[0m                            Traceback (most recent call last)",
      "\u001b[1;32m<ipython-input-10-4d5269150e16>\u001b[0m in \u001b[0;36m<module>\u001b[1;34m\u001b[0m\n\u001b[0;32m      5\u001b[0m \u001b[0mdata_train\u001b[0m\u001b[1;33m[\u001b[0m\u001b[1;34m\"Fare\"\u001b[0m\u001b[1;33m]\u001b[0m\u001b[1;33m.\u001b[0m\u001b[0mdescribe\u001b[0m\u001b[1;33m(\u001b[0m\u001b[1;33m)\u001b[0m\u001b[1;33m\u001b[0m\u001b[1;33m\u001b[0m\u001b[0m\n\u001b[0;32m      6\u001b[0m \u001b[1;33m\u001b[0m\u001b[0m\n\u001b[1;32m----> 7\u001b[1;33m \u001b[0mdata_train\u001b[0m\u001b[1;33m[\u001b[0m\u001b[1;34m\"Pid\"\u001b[0m\u001b[1;33m]\u001b[0m \u001b[1;33m=\u001b[0m \u001b[0mpd\u001b[0m\u001b[1;33m.\u001b[0m\u001b[0mto_numeric\u001b[0m\u001b[1;33m(\u001b[0m\u001b[0mdata_train\u001b[0m\u001b[1;33m.\u001b[0m\u001b[0mPid\u001b[0m\u001b[1;33m,\u001b[0m \u001b[0merrors\u001b[0m\u001b[1;33m=\u001b[0m\u001b[1;34m'coerce'\u001b[0m\u001b[1;33m)\u001b[0m\u001b[1;33m\u001b[0m\u001b[1;33m\u001b[0m\u001b[0m\n\u001b[0m\u001b[0;32m      8\u001b[0m \u001b[0mdata_train\u001b[0m\u001b[1;33m[\u001b[0m\u001b[1;34m\"Pid\"\u001b[0m\u001b[1;33m]\u001b[0m\u001b[1;33m.\u001b[0m\u001b[0mdescribe\u001b[0m\u001b[1;33m(\u001b[0m\u001b[1;33m)\u001b[0m\u001b[1;33m\u001b[0m\u001b[1;33m\u001b[0m\u001b[0m\n\u001b[0;32m      9\u001b[0m \u001b[1;33m\u001b[0m\u001b[0m\n",
      "\u001b[1;32m~\\Anaconda3\\lib\\site-packages\\pandas\\core\\generic.py\u001b[0m in \u001b[0;36m__getattr__\u001b[1;34m(self, name)\u001b[0m\n\u001b[0;32m   5177\u001b[0m             \u001b[1;32mif\u001b[0m \u001b[0mself\u001b[0m\u001b[1;33m.\u001b[0m\u001b[0m_info_axis\u001b[0m\u001b[1;33m.\u001b[0m\u001b[0m_can_hold_identifiers_and_holds_name\u001b[0m\u001b[1;33m(\u001b[0m\u001b[0mname\u001b[0m\u001b[1;33m)\u001b[0m\u001b[1;33m:\u001b[0m\u001b[1;33m\u001b[0m\u001b[1;33m\u001b[0m\u001b[0m\n\u001b[0;32m   5178\u001b[0m                 \u001b[1;32mreturn\u001b[0m \u001b[0mself\u001b[0m\u001b[1;33m[\u001b[0m\u001b[0mname\u001b[0m\u001b[1;33m]\u001b[0m\u001b[1;33m\u001b[0m\u001b[1;33m\u001b[0m\u001b[0m\n\u001b[1;32m-> 5179\u001b[1;33m             \u001b[1;32mreturn\u001b[0m \u001b[0mobject\u001b[0m\u001b[1;33m.\u001b[0m\u001b[0m__getattribute__\u001b[0m\u001b[1;33m(\u001b[0m\u001b[0mself\u001b[0m\u001b[1;33m,\u001b[0m \u001b[0mname\u001b[0m\u001b[1;33m)\u001b[0m\u001b[1;33m\u001b[0m\u001b[1;33m\u001b[0m\u001b[0m\n\u001b[0m\u001b[0;32m   5180\u001b[0m \u001b[1;33m\u001b[0m\u001b[0m\n\u001b[0;32m   5181\u001b[0m     \u001b[1;32mdef\u001b[0m \u001b[0m__setattr__\u001b[0m\u001b[1;33m(\u001b[0m\u001b[0mself\u001b[0m\u001b[1;33m,\u001b[0m \u001b[0mname\u001b[0m\u001b[1;33m,\u001b[0m \u001b[0mvalue\u001b[0m\u001b[1;33m)\u001b[0m\u001b[1;33m:\u001b[0m\u001b[1;33m\u001b[0m\u001b[1;33m\u001b[0m\u001b[0m\n",
      "\u001b[1;31mAttributeError\u001b[0m: 'DataFrame' object has no attribute 'Pid'"
     ]
    }
   ],
   "source": [
    "data_train[\"Age\"] = pd.to_numeric(data_train.Age, errors='coerce')\n",
    "data_train[\"Age\"].describe()\n",
    "\n",
    "data_train[\"Fare\"] = pd.to_numeric(data_train.Fare, errors='coerce')\n",
    "data_train[\"Fare\"].describe()\n",
    "\n",
    "data_train[\"Pid\"] = pd.to_numeric(data_train.Pid, errors='coerce')\n",
    "data_train[\"Pid\"].describe()\n",
    "\n",
    "data_train[\"Survived\"] = pd.to_numeric(data_train.Survived, errors='coerce')\n",
    "data_train[\"Survived\"].describe()\n",
    "\n",
    "\n",
    "data_train[\"Pclass\"] = pd.to_numeric(data_train.Pclass, errors='coerce')\n",
    "data_train[\"Pclass\"].describe()\n",
    "\n",
    "\n",
    "data_train[\"Sibsp\"] = pd.to_numeric(data_train.Sibsp, errors='coerce')\n",
    "data_train[\"Sibsp\"].describe()\n",
    "\n",
    "data_train[\"Parch\"] = pd.to_numeric(data_train.Parch, errors='coerce')\n",
    "data_train[\"Parch\"].describe()\n",
    "\n",
    "##-----------------------------------------------------------------------##\n",
    "##For Test Data set\n",
    "##-----------------------------------------------------------------------##\n",
    "\n",
    "data_test[\"Age\"] = pd.to_numeric(data_test.Age, errors='coerce')\n",
    "data_test[\"Age\"].describe()\n",
    "\n",
    "data_test[\"Fare\"] = pd.to_numeric(data_test.Fare, errors='coerce')\n",
    "data_test[\"Fare\"].describe()\n",
    "\n",
    "data_test[\"Pid\"] = pd.to_numeric(data_test.Pid, errors='coerce')\n",
    "data_test[\"Pid\"].describe()\n",
    "\n",
    "data_test[\"Pclass\"] = pd.to_numeric(data_test.Pclass, errors='coerce')\n",
    "data_test[\"Pclass\"].describe()\n",
    "\n",
    "\n",
    "data_test[\"Sibsp\"] = pd.to_numeric(data_test.Sibsp, errors='coerce')\n",
    "data_test[\"Sibsp\"].describe()\n",
    "\n",
    "data_test[\"Parch\"] = pd.to_numeric(data_test.Parch, errors='coerce')\n",
    "data_test[\"Parch\"].describe()\n",
    "\n",
    "data_train.info()\n",
    "print('_'*40)\n",
    "print('_'*40)\n",
    "data_test.info()"
   ]
  },
  {
   "cell_type": "markdown",
   "metadata": {},
   "source": [
    "Here are the results::\n",
    "Seven features are floats. Six in case of test dataset.\n",
    "Five features are strings (object)."
   ]
  },
  {
   "cell_type": "markdown",
   "metadata": {},
   "source": [
    "Q7- What is the distribution of numerical feature values across the samples?"
   ]
  },
  {
   "cell_type": "raw",
   "metadata": {},
   "source": [
    "Catering null Values :::\n",
    "Cabin & Fare is not very important feature for us\n",
    "We will fill median values in age."
   ]
  },
  {
   "cell_type": "code",
   "execution_count": null,
   "metadata": {},
   "outputs": [],
   "source": [
    "#data_train.isnull().sum() \n",
    "#Calculating Median\n",
    "median = data_train['Age'].median()\n",
    "data_train['Age'].fillna(median, inplace=True)\n",
    "data_test['Age'].fillna(median, inplace=True)\n",
    "data_train.isnull().sum() \n",
    "\n"
   ]
  },
  {
   "cell_type": "markdown",
   "metadata": {},
   "source": [
    "This helps us determine, among other early insights, how representative is the training dataset of the actual problem domain.\n",
    "\n",
    "1. Total samples are 891 or 40% of the actual number of passengers on board the Titanic (2,224). (agreed)\n",
    "2. Survived is a categorical feature with 0 or 1 values. (agreed)\n",
    "3. Around 38% samples survived representative of the actual survival rate at 32%.\n",
    "4. Most passengers (> 75%) did not travel with parents or children.\n",
    "5. Nearly 30% of the passengers had siblings and/or spouse aboard.\n",
    "6. Fares varied significantly with few passengers (<1%) paying as high as $512.\n",
    "7. Few elderly passengers (<1%) within age range 65-80."
   ]
  },
  {
   "cell_type": "code",
   "execution_count": null,
   "metadata": {},
   "outputs": [],
   "source": [
    "data_train.describe()"
   ]
  },
  {
   "cell_type": "code",
   "execution_count": null,
   "metadata": {},
   "outputs": [],
   "source": [
    "#Review survived rate using `percentiles=[.61, .62]` knowing our problem description mentions 38% survival rate.\n",
    "percentile = [.61,.62] \n",
    "data_train[\"Survived\"].describe(percentiles = percentile)"
   ]
  },
  {
   "cell_type": "code",
   "execution_count": null,
   "metadata": {},
   "outputs": [],
   "source": [
    "## Review Parch distribution using `percentiles=[.75, .8]`\n",
    "percentile = [.75,.8] \n",
    "data_train[\"Parch\"].describe(percentiles = percentile)\n"
   ]
  },
  {
   "cell_type": "markdown",
   "metadata": {},
   "source": [
    "Q- What is the distribution of categorical features?\n",
    "\n",
    "\n",
    "1. Names are unique across the dataset (count=unique=891)\n",
    "\n",
    "2. Sex variable as two possible values with 64% male (top=male, freq=577/count=891).\n",
    "\n",
    "3. Cabin values have several dupicates across samples. Alternatively several passengers shared a cabin.\n",
    "\n",
    "4. Embarked takes three possible values. S port used by most passengers (top=S)\n",
    "\n",
    "5. Ticket feature has high ratio (26%) of duplicate values (unique=681)."
   ]
  },
  {
   "cell_type": "code",
   "execution_count": null,
   "metadata": {},
   "outputs": [],
   "source": [
    "data_train.describe(include=['O'])"
   ]
  },
  {
   "cell_type": "markdown",
   "metadata": {},
   "source": [
    "Hint:::: \n",
    "\n",
    "DataFrame.describe(include=['O']) should include categorical columns only."
   ]
  },
  {
   "cell_type": "markdown",
   "metadata": {},
   "source": [
    "MOST IMPORTANT MARKDOWN ::\n",
    "\n",
    "Asspumtions based on data analysis\n",
    "\n",
    "We arrive at following assumptions based on data analysis done so far. We may validate these assumptions further before taking appropriate actions.\n",
    "\n",
    "Correlating.\n",
    "\n",
    "We want to know how well does each feature correlate with Survival. We want to do this early in our project and match these quick correlations with modelled correlations later in the project.\n",
    "\n",
    "Completing.\n",
    "\n",
    "We may want to complete Age feature as it is definitely correlated to survival.\n",
    "We may want to complete the Embarked feature as it may also correlate with survival or another important feature.\n",
    "\n",
    "Correcting.\n",
    "\n",
    "Ticket feature may be dropped from our analysis as it contains high ratio of duplicates (22%) and there may not be a correlation between Ticket and survival.\n",
    "\n",
    "Cabin feature may be dropped as it is highly incomplete or contains many null values both in training and test dataset.\n",
    "PassengerId may be dropped from training dataset as it does not contribute to survival.\n",
    "\n",
    "Name feature is relatively non-standard, may not contribute directly to survival, so maybe dropped.\n",
    "\n",
    "Creating.\n",
    "\n",
    "We may want to create a new feature called Family based on Parch and SibSp to get total count of family members on board.\n",
    "\n",
    "We may want to engineer the Name feature to extract Title as a new feature.\n",
    "\n",
    "We may want to create new feature for Age bands. This turns a continous numerical feature into an ordinal categorical feature.\n",
    "(through Binning)\n",
    "\n",
    "We may also want to create a Fare range feature if it helps our analysis.\n",
    "\n",
    "Classifying.\n",
    "\n",
    "We may also add to our assumptions based on the problem description noted earlier.\n",
    "\n",
    "Women (Sex=female) were more likely to have survived.\n",
    "Children (Age<?) were more likely to have survived.\n",
    "The upper-class passengers (Pclass=1) were more likely to have survived.\n"
   ]
  },
  {
   "cell_type": "markdown",
   "metadata": {},
   "source": [
    "So first of all we will analyze correlation between features:\n",
    "\n",
    "1) Pclass with survival"
   ]
  },
  {
   "cell_type": "code",
   "execution_count": null,
   "metadata": {},
   "outputs": [],
   "source": [
    "print(data_train.groupby('Pclass')['Pid'].count().sort_values(ascending=True).head())\n",
    "data_train[['Pclass','Survived']].groupby(['Pclass'],as_index = False).mean().sort_values(by='Survived',ascending = False)\n"
   ]
  },
  {
   "cell_type": "markdown",
   "metadata": {},
   "source": [
    "Pclass 3 has most no. of passengers (491) but they survived only 24%, \n",
    "\n",
    "However, Pclass 1 has 216 passengers, from which they survived most (62%).\n",
    "\n",
    "2) Gender with survival"
   ]
  },
  {
   "cell_type": "code",
   "execution_count": null,
   "metadata": {},
   "outputs": [],
   "source": [
    "print(data_train.groupby('Sex')['Pid'].count().sort_values(ascending=True).head())\n",
    "data_train[['Sex','Survived']].groupby(['Sex'],as_index = False).mean().sort_values(by = 'Survived',ascending = False)"
   ]
  },
  {
   "cell_type": "markdown",
   "metadata": {},
   "source": [
    "74% Females have survived.\n",
    "\n",
    "3) sibsp with survival"
   ]
  },
  {
   "cell_type": "code",
   "execution_count": null,
   "metadata": {},
   "outputs": [],
   "source": [
    "print(data_train.groupby('Sibsp')['Pid'].count().sort_values(ascending=True).head())\n",
    "data_train[['Sibsp','Survived']].groupby(['Sibsp'],as_index =False).mean().sort_values(by = 'Survived',ascending = False)"
   ]
  },
  {
   "cell_type": "markdown",
   "metadata": {},
   "source": [
    "53% with 1 Siblings have survived.\n",
    "4) Parch with survival"
   ]
  },
  {
   "cell_type": "code",
   "execution_count": null,
   "metadata": {},
   "outputs": [],
   "source": [
    "data_train[['Parch','Survived']].groupby(['Parch'],as_index = False).mean().sort_values(by = 'Survived',ascending = False)"
   ]
  },
  {
   "cell_type": "markdown",
   "metadata": {},
   "source": [
    "60% with 3 arents/childrens have survived.\n"
   ]
  },
  {
   "cell_type": "markdown",
   "metadata": {},
   "source": [
    "Analyze by visualizing data\n",
    "\n",
    "Now we can continue confirming some of our assumptions using visualizations for analyzing the data.\n",
    "\n",
    "Age is the most important feature in this dataset. So , lets visualize correlation between age and survival."
   ]
  },
  {
   "cell_type": "code",
   "execution_count": null,
   "metadata": {},
   "outputs": [],
   "source": [
    "# grid = sns.FacetGrid(train_df, col='Pclass', hue='Survived')\n",
    "grid = sns.FacetGrid(data_train, col='Survived', size=5.2, aspect=1.6)\n",
    "grid.map(plt.hist, 'Age', alpha=.5, bins=20)\n",
    "grid.add_legend();"
   ]
  },
  {
   "cell_type": "markdown",
   "metadata": {},
   "source": [
    "Correlating numerical features\n",
    "\n",
    "Let us start by understanding correlations between numerical features and our solution goal (Survived).\n",
    "\n",
    "Observations from above histogram are as follows:\n",
    "\n",
    "1. Infants (Age <=4) had high survival rate.\n",
    "2. Oldest passengers (Age = 80) survived.\n",
    "3. Large number of 15-25 year olds did not survive.\n",
    "4. Most passengers are in 15-35 age range.\n",
    "\n",
    "\n",
    "\n",
    "Decisions.\n",
    "\n",
    "This simple analysis confirms our assumptions as decisions for subsequent workflow stages.\n",
    "\n",
    "1. We should consider Age in our model training.\n",
    "2. Complete the Age feature for null values (Done already).\n",
    "3. We should band age groups (Binning)."
   ]
  },
  {
   "cell_type": "code",
   "execution_count": null,
   "metadata": {},
   "outputs": [],
   "source": [
    "# grid = sns.FacetGrid(train_df, col='Pclass', hue='Survived')\n",
    "grid = sns.FacetGrid(data_train, col='Survived', row='Pclass', size=5.2, aspect=1.6)\n",
    "grid.map(plt.hist, 'Age', alpha=.5, bins=20)\n",
    "grid.add_legend();"
   ]
  },
  {
   "cell_type": "markdown",
   "metadata": {},
   "source": [
    "Our Assumptions:\n",
    "1) PClass 1 have survived most.\n",
    "2) PClass 2 have greater infants survival.\n",
    "3) PClass 3 have highest death rate, in addition, PClass 3 have most no. of passengers travelling.\n",
    "\n",
    "\n",
    "Decisions.\n",
    "\n",
    "Consider Pclass for model training.\n"
   ]
  },
  {
   "cell_type": "code",
   "execution_count": null,
   "metadata": {},
   "outputs": [],
   "source": [
    "grid = sns.FacetGrid(data_train, row='Embarked', size=3.2, aspect=1.6)\n",
    "grid.map(sns.pointplot, 'Pclass','Survived','Sex', palette='deep')\n",
    "grid.add_legend();"
   ]
  },
  {
   "cell_type": "markdown",
   "metadata": {},
   "source": [
    "Observations:\n",
    "    1. In embarked 'S', female survial rate is high\n",
    "    2. Exception in Embarked=C where males had higher survival rate. This could be a correlation between \n",
    "    Pclass and Embarked and in turn Pclass and Survived, not necessarily direct correlation between Embarked and Survived.\n",
    "    3. Males had better survival rate in Pclass=3 when compared with Pclass=2 for C and Q ports.\n",
    "    4. Ports of embarkation have varying survival rates for Pclass=3 and among male passengers.\n",
    "    \n",
    "Decisions.\n",
    "\n",
    "    1. Add Sex feature to model training.\n",
    "    2. Complete and add Embarked feature to model training.    "
   ]
  },
  {
   "cell_type": "code",
   "execution_count": null,
   "metadata": {},
   "outputs": [],
   "source": [
    "grid = sns.FacetGrid(data_train, row='Embarked',col = 'Survived', size=3.2, aspect=1.6)\n",
    "grid.map(sns.barplot, 'Sex','Fare', alpha=.5, ci=None)\n",
    "grid.add_legend();"
   ]
  },
  {
   "cell_type": "markdown",
   "metadata": {},
   "source": [
    "Observations.\n",
    "\n",
    "1. Higher fare paying passengers had better survival.\n",
    "2. Port of embarkation correlates with survival rates. \n",
    "\n",
    "Decisions.\n",
    "\n",
    "Consider banding Fare feature.\n"
   ]
  },
  {
   "cell_type": "markdown",
   "metadata": {},
   "source": [
    "## Wrangle data\n",
    "\n",
    "We have collected several assumptions and decisions regarding our datasets and solution requirements. So far we did not have to change a single feature or value to arrive at these. Let us now execute our decisions and assumptions for correcting, creating, and completing goals.\n",
    "\n",
    "# Correcting by dropping features\n",
    "\n",
    "Based on our assumptions and decisions we want to drop the Cabin (correcting #2) and Ticket (correcting #1) features\n",
    "\n",
    "Note that where applicable we perform operations on both training and testing datasets together to stay consistent."
   ]
  },
  {
   "cell_type": "code",
   "execution_count": null,
   "metadata": {},
   "outputs": [],
   "source": [
    "combine = [data_train, data_test]\n",
    "print(\"Before\", data_train.shape, data_test.shape,combine[0].shape, combine[1].shape)\n",
    "\n",
    "data_train = data_train.drop(['Ticket', 'Cabin'], axis=1)\n",
    "data_test = data_test.drop(['Ticket', 'Cabin'], axis=1)\n",
    "combine2 = [data_train, data_test]\n",
    "\n",
    "print(\"After\", data_train.shape, data_test.shape, combine2[0].shape, combine2[1].shape)"
   ]
  },
  {
   "cell_type": "markdown",
   "metadata": {},
   "source": [
    "First we will change name column, then apply binning to age column."
   ]
  },
  {
   "cell_type": "code",
   "execution_count": null,
   "metadata": {},
   "outputs": [],
   "source": [
    "for dataset in combine2:\n",
    "    dataset[\"Title\"] = dataset.Name.str.extract(' ([A-Za-z]+)\\.',expand=False)"
   ]
  },
  {
   "cell_type": "code",
   "execution_count": null,
   "metadata": {},
   "outputs": [],
   "source": [
    "data_train.head()"
   ]
  },
  {
   "cell_type": "code",
   "execution_count": null,
   "metadata": {},
   "outputs": [],
   "source": [
    "pd.crosstab(data_train['Title'], data_train['Sex'])"
   ]
  },
  {
   "cell_type": "markdown",
   "metadata": {},
   "source": [
    "We can replace many titles with a more common name or classify them as Rare.\n",
    "For e.g. Mr to 1, Mrs to 2 so on."
   ]
  },
  {
   "cell_type": "code",
   "execution_count": null,
   "metadata": {},
   "outputs": [],
   "source": [
    "for dataset in combine2:\n",
    "    dataset['Title'] = dataset['Title'].replace(['Lady', 'Countess','Capt', 'Col','Don', 'Dr', 'Major', 'Rev', 'Sir', 'Jonkheer', 'Dona'], 'Rare')\n",
    "\n",
    "    dataset['Title'] = dataset['Title'].replace('Mlle', 'Miss')\n",
    "    dataset['Title'] = dataset['Title'].replace('Ms', 'Miss')\n",
    "    dataset['Title'] = dataset['Title'].replace('Mme', 'Mrs')"
   ]
  },
  {
   "cell_type": "code",
   "execution_count": null,
   "metadata": {},
   "outputs": [],
   "source": [
    "data_train.head(10)"
   ]
  },
  {
   "cell_type": "code",
   "execution_count": null,
   "metadata": {},
   "outputs": [],
   "source": [
    "data_train[['Title','Survived']].groupby(['Title'],as_index = False).mean()"
   ]
  },
  {
   "cell_type": "code",
   "execution_count": null,
   "metadata": {},
   "outputs": [],
   "source": [
    "#We can convert the categorical titles to ordinal.\n",
    "\n",
    "titlemapping = {'Mr':1, 'Miss':2,'Mrs':3, 'Master':4,'Rare':5}\n",
    "for row in combine2:\n",
    "    row[\"Title\"] = row[\"Title\"].map(titlemapping)\n",
    "    row['Title'] = row['Title'].fillna(0)\n",
    "    "
   ]
  },
  {
   "cell_type": "code",
   "execution_count": null,
   "metadata": {},
   "outputs": [],
   "source": [
    "data_train.head(10)"
   ]
  },
  {
   "cell_type": "code",
   "execution_count": null,
   "metadata": {},
   "outputs": [],
   "source": [
    "#Now we can drop Name column. We also do not need the PassengerId feature in the training dataset.\n",
    "\n",
    "data_train = data_train.drop(['Name', 'Pid'],axis = 1)\n",
    "data_test = data_test.drop(['Name'],axis = 1)\n",
    "combine2 = [data_train, data_test]\n",
    "data_train.shape, data_test.shape\n",
    "#data_train.head(10)"
   ]
  },
  {
   "cell_type": "code",
   "execution_count": null,
   "metadata": {},
   "outputs": [],
   "source": [
    "#Lets change Sex Column\n",
    "titlemapping = {'male':0, 'female':1}\n",
    "for row in combine2:\n",
    "    row[\"Sex\"] = row[\"Sex\"].map(titlemapping).astype(int)\n",
    "    \n",
    "    row['Sex'] = row['Sex'].fillna(0)"
   ]
  },
  {
   "cell_type": "code",
   "execution_count": null,
   "metadata": {},
   "outputs": [],
   "source": [
    "data_train.head(10)"
   ]
  },
  {
   "cell_type": "code",
   "execution_count": null,
   "metadata": {},
   "outputs": [],
   "source": [
    "#Binning of age\n",
    "\n",
    "data_train[\"Ageband\"] = pd.cut(data_train[\"Age\"],5)\n",
    "data_train[['Ageband','Survived']].groupby(['Ageband'],as_index = False).mean().sort_values(by='Ageband', ascending=True)"
   ]
  },
  {
   "cell_type": "code",
   "execution_count": null,
   "metadata": {},
   "outputs": [],
   "source": [
    "#Let us replace Age with ordinals based on these bands.\n",
    "\n",
    "for row in combine2:\n",
    "    row.loc[row[\"Age\"] <= 16.336,'Age'] = 0\n",
    "    row.loc[(row['Age'] > 16.336) & (row[\"Age\"] <= 32.252),'Age'] = 1\n",
    "    \n",
    "    row.loc[(row[\"Age\"] > 32.252) & (row[\"Age\"] <= 48.168),'Age'] = 2\n",
    "    row.loc[(row[\"Age\"] > 48.168) & (row[\"Age\"] <= 64.084),'Age'] = 3\n",
    "    row.loc[row[\"Age\"] > 64.084,'Age' ] = 4\n"
   ]
  },
  {
   "cell_type": "code",
   "execution_count": null,
   "metadata": {},
   "outputs": [],
   "source": [
    "data_train[\"Age\"] = data_train[\"Age\"].astype(int)\n",
    "data_train.head(10)"
   ]
  },
  {
   "cell_type": "code",
   "execution_count": null,
   "metadata": {},
   "outputs": [],
   "source": [
    "#Delete Age band column from tarin dataset\n",
    "data_train = data_train.drop(['Ageband'],axis = 1)\n",
    "#data_test = data_test.drop(['Name'],axis = 1)\n",
    "combine2 = [data_train, data_test]\n",
    "data_train.shape, data_test.shape"
   ]
  },
  {
   "cell_type": "markdown",
   "metadata": {},
   "source": [
    "Create new feature combining existing features\n",
    "We can create a new feature for \"FamilySize\" which combines Parch and SibSp. \n",
    "\n",
    "This will enable us to drop Parch and SibSp from our datasets."
   ]
  },
  {
   "cell_type": "code",
   "execution_count": null,
   "metadata": {},
   "outputs": [],
   "source": [
    "#for row in combine2:\n",
    "    #row['FamilySize'] = row['Sibsp'] + row['Parch']+1\n",
    "for dataset in combine2:\n",
    "    \n",
    "    dataset[\"FamilySize\"] = dataset['Sibsp'] + dataset['Parch'] + 1"
   ]
  },
  {
   "cell_type": "code",
   "execution_count": null,
   "metadata": {},
   "outputs": [],
   "source": [
    "data_train.head()\n"
   ]
  },
  {
   "cell_type": "code",
   "execution_count": null,
   "metadata": {},
   "outputs": [],
   "source": [
    "data_train[[\"FamilySize\",\"Survived\"]].groupby([\"FamilySize\"],as_index= False).mean().sort_values(by='Survived', ascending=False)"
   ]
  },
  {
   "cell_type": "code",
   "execution_count": null,
   "metadata": {},
   "outputs": [],
   "source": [
    "#We can create another feature called IsAlone.\n",
    "#iS ALONE MEANS =>>>> IF HE HAS FAMILY MEMBER EQUAL TO 1 THEN ISALONE VALUE IS 1 (FALSE) ELSE 0 (iSALONE TRUE)\n",
    "#0 means yes , 1 means no\n",
    "#isalon = 0 means yes, he is alone\n",
    "for row in combine2:\n",
    "    row[\"IsAlone\"] = 0\n",
    "    row.loc[row[\"FamilySize\"] == 1,'IsAlone'] = 1\n",
    "    "
   ]
  },
  {
   "cell_type": "code",
   "execution_count": null,
   "metadata": {},
   "outputs": [],
   "source": [
    "data_train[['IsAlone','Survived']].groupby(['IsAlone'],as_index = False).mean()"
   ]
  },
  {
   "cell_type": "code",
   "execution_count": null,
   "metadata": {},
   "outputs": [],
   "source": [
    "#Let us drop Parch, SibSp, and FamilySize features in favor of IsAlone.\n",
    "data_train = data_train.drop(['Parch', 'Sibsp', 'FamilySize'], axis=1)\n",
    "data_test = data_test.drop(['Parch', 'Sibsp', 'FamilySize'], axis=1)\n",
    "combine2 = [data_train, data_test]"
   ]
  },
  {
   "cell_type": "code",
   "execution_count": null,
   "metadata": {},
   "outputs": [],
   "source": [
    "data_train.head()"
   ]
  },
  {
   "cell_type": "code",
   "execution_count": null,
   "metadata": {},
   "outputs": [],
   "source": [
    "#We can also create an artificial feature combining Pclass and Age.\n",
    "for row in combine2:\n",
    "    row['Age*Class'] = row.Age * row.Pclass\n"
   ]
  },
  {
   "cell_type": "markdown",
   "metadata": {},
   "source": [
    "Take median for null values in embarked"
   ]
  },
  {
   "cell_type": "code",
   "execution_count": null,
   "metadata": {},
   "outputs": [],
   "source": [
    "freq_port = data_train.Embarked.dropna().mode()[0]\n",
    "freq_port"
   ]
  },
  {
   "cell_type": "code",
   "execution_count": null,
   "metadata": {},
   "outputs": [],
   "source": [
    "#Replace S as median\n",
    "for dataset in combine2:\n",
    "    dataset['Embarked'] = dataset['Embarked'].fillna(freq_port)"
   ]
  },
  {
   "cell_type": "markdown",
   "metadata": {},
   "source": [
    "Converting categorical feature to numeric\n",
    "\n",
    "We can now convert the EmbarkedFill feature by creating a new numeric Port feature."
   ]
  },
  {
   "cell_type": "code",
   "execution_count": null,
   "metadata": {},
   "outputs": [],
   "source": [
    "titlemapping = {'S':0, 'C':1,'Q':3}\n",
    "for row in combine2:\n",
    "    row[\"Embarked\"] = row[\"Embarked\"].map(titlemapping).astype(int)\n",
    "    "
   ]
  },
  {
   "cell_type": "code",
   "execution_count": null,
   "metadata": {},
   "outputs": [],
   "source": [
    "data_train.head()"
   ]
  },
  {
   "cell_type": "code",
   "execution_count": null,
   "metadata": {},
   "outputs": [],
   "source": [
    "\n",
    "\n",
    "AvgFare = data_train['Fare'].median()\n",
    "data_train['Fare'].fillna(AvgFare, inplace=True)\n",
    "data_test['Fare'].fillna(AvgFare, inplace=True)\n",
    "\n",
    "data_train.head()\n"
   ]
  },
  {
   "cell_type": "markdown",
   "metadata": {},
   "source": [
    "Create FareBand, first check its cut values"
   ]
  },
  {
   "cell_type": "code",
   "execution_count": null,
   "metadata": {},
   "outputs": [],
   "source": [
    "data_train['FareBand'] = pd.qcut(data_train['Fare'], 4)\n",
    "data_train[['FareBand','Survived']].groupby(['FareBand'],as_index = False).mean()"
   ]
  },
  {
   "cell_type": "code",
   "execution_count": null,
   "metadata": {},
   "outputs": [],
   "source": [
    "#Now Create bining inthe given format above\n",
    "for row in combine2:\n",
    "    row.loc[row['Fare'] <= 7.91,'Fare'] = 0\n",
    "    row.loc[(row['Fare']>7.91) & (row['Fare']<= 14.54),'Fare'] = 1\n",
    "    row.loc[(row['Fare']>14.54) & (row['Fare']<= 31.0),'Fare'] = 2\n",
    "    row.loc[(row['Fare']>31.0) & (row['Fare']<= 512.329),'Fare'] = 3\n",
    "data_train['Fare'] = data_train['Fare'].astype(int)"
   ]
  },
  {
   "cell_type": "code",
   "execution_count": null,
   "metadata": {},
   "outputs": [],
   "source": [
    "data_train = data_train.drop(['FareBand'], axis=1)\n",
    "#data_test = data_test.drop(['Parch', 'Sibsp', 'FamilySize'], axis=1)\n",
    "combine2 = [data_train, data_test]"
   ]
  },
  {
   "cell_type": "code",
   "execution_count": null,
   "metadata": {},
   "outputs": [],
   "source": [
    "#Preprocessed and prepared training data set for model prediction is here:::::\n",
    "data_train.head()"
   ]
  },
  {
   "cell_type": "code",
   "execution_count": null,
   "metadata": {},
   "outputs": [],
   "source": [
    "\n",
    "#Preprocessed and prepared TEST data set for model prediction is here:::::\n",
    "data_test.head()"
   ]
  },
  {
   "cell_type": "markdown",
   "metadata": {},
   "source": [
    "Model, predict and solve\n",
    "\n",
    "\n",
    "Now we are ready to train a model and predict the required solution. There are 60+ predictive modelling algorithms to choose from. We must understand the type of problem and solution requirement to narrow down to a select few models which we can evaluate. Our problem is a classification and regression problem. We want to identify relationship between output (Survived or not) with other variables or features (Gender, Age, Port...). We are also perfoming a category of machine learning which is called supervised learning as we are training our model with a given dataset. With these two criteria - Supervised Learning plus Classification and Regression, we can narrow down our choice of models to a few. These include:\n",
    "\n",
    "Logistic Regression\n",
    "KNN or k-Nearest Neighbors\n",
    "Support Vector Machines\n",
    "Naive Bayes classifier\n",
    "Decision Tree\n",
    "Random Forrest\n",
    "Perceptron\n",
    "Artificial neural network\n",
    "RVM or Relevance Vector Machine"
   ]
  },
  {
   "cell_type": "markdown",
   "metadata": {},
   "source": [
    "Firstly Checking null values in test data and train data set:"
   ]
  },
  {
   "cell_type": "code",
   "execution_count": null,
   "metadata": {},
   "outputs": [],
   "source": [
    "print(data_test.isnull().sum())"
   ]
  },
  {
   "cell_type": "code",
   "execution_count": null,
   "metadata": {},
   "outputs": [],
   "source": [
    "print(data_train.isnull().sum())"
   ]
  },
  {
   "cell_type": "code",
   "execution_count": null,
   "metadata": {},
   "outputs": [],
   "source": [
    "X_Train = data_train.drop(\"Survived\",axis =1)\n",
    "Y_Train = data_train[\"Survived\"]\n",
    "X_Test = data_test.drop([\"Pid\"],axis =1)\n",
    "\n",
    "X_Train.shape,Y_Train.shape,X_Test.shape"
   ]
  },
  {
   "cell_type": "code",
   "execution_count": null,
   "metadata": {},
   "outputs": [],
   "source": [
    "# Logistic Regression\n",
    "\n",
    "logreg = LogisticRegression()\n",
    "logreg.fit(X_Train, Y_Train)\n",
    "Y_pred = logreg.predict(X_Test)\n",
    "acc_log = round(logreg.score(X_Train, Y_Train) * 100, 2)\n",
    "acc_log"
   ]
  },
  {
   "cell_type": "markdown",
   "metadata": {},
   "source": [
    "Next we model using Support Vector Machines which are supervised learning models with associated learning algorithms that analyze data used for classification and regression analysis. Given a set of training samples, each marked as belonging to one or the other of two categories, an SVM training algorithm builds a model that assigns new test samples to one category or the other, making it a non-probabilistic binary linear classifier. Reference Wikipedia.\n",
    "\n",
    "Note that the model generates a confidence score which is higher than Logistics Regression model."
   ]
  },
  {
   "cell_type": "code",
   "execution_count": null,
   "metadata": {},
   "outputs": [],
   "source": [
    "# Support Vector Machines\n",
    "\n",
    "svc = SVC()\n",
    "svc.fit(X_Train, Y_Train)\n",
    "Y_pred = svc.predict(X_Test)\n",
    "acc_svc = round(svc.score(X_Train, Y_Train) * 100, 2)\n",
    "acc_svc"
   ]
  },
  {
   "cell_type": "markdown",
   "metadata": {},
   "source": [
    "In pattern recognition, the k-Nearest Neighbors algorithm (or k-NN for short) is a non-parametric method used for classification and regression. A sample is classified by a majority vote of its neighbors, with the sample being assigned to the class most common among its k nearest neighbors (k is a positive integer, typically small). If k = 1, then the object is simply assigned to the class of that single nearest neighbor. Reference Wikipedia.\n",
    "\n",
    "KNN confidence score is better than Logistics Regression but worse than SVM.\n",
    "\n"
   ]
  },
  {
   "cell_type": "code",
   "execution_count": null,
   "metadata": {},
   "outputs": [],
   "source": [
    "knn = KNeighborsClassifier(n_neighbors = 3)\n",
    "knn.fit(X_Train, Y_Train)\n",
    "Y_pred = knn.predict(X_Test)\n",
    "acc_knn = round(knn.score(X_Train, Y_Train) * 100, 2)\n",
    "print(Y_pred)\n",
    "acc_knn\n"
   ]
  },
  {
   "cell_type": "markdown",
   "metadata": {},
   "source": [
    "In machine learning, naive Bayes classifiers are a family of simple probabilistic classifiers based on applying Bayes' theorem \n",
    "with strong (naive) independence assumptions between the features. Naive Bayes classifiers are highly scalable, \n",
    "requiring a number of parameters linear in the number of variables (features) in a learning problem. \n",
    "\n",
    "The model generated confidence score is the lowest among the models evaluated so far."
   ]
  },
  {
   "cell_type": "code",
   "execution_count": null,
   "metadata": {},
   "outputs": [],
   "source": [
    "# Gaussian Naive Bayes\n",
    "gaussian = GaussianNB()\n",
    "gaussian.fit(X_Train, Y_Train)\n",
    "Y_pred = gaussian.predict(X_Test)\n",
    "acc_gaussian = round(gaussian.score(X_Train, Y_Train) * 100, 2)\n",
    "acc_gaussian"
   ]
  },
  {
   "cell_type": "markdown",
   "metadata": {},
   "source": [
    "The perceptron is an algorithm for supervised learning of binary classifiers (functions that can decide whether an input, represented by a vector of numbers, belongs to some specific class or not). It is a type of linear classifier, i.e. a classification algorithm that makes its predictions based on a linear predictor function combining a set of weights with the feature vector. The algorithm allows for online learning, in that it processes elements in the training set one at a time. Reference Wikipedia."
   ]
  },
  {
   "cell_type": "code",
   "execution_count": null,
   "metadata": {},
   "outputs": [],
   "source": [
    "# Perceptron\n",
    "perceptron = Perceptron()\n",
    "perceptron.fit(X_Train, Y_Train)\n",
    "Y_pred = perceptron.predict(X_Test)\n",
    "acc_Percep = round(perceptron.score(X_Train, Y_Train) * 100, 2)\n",
    "acc_Percep"
   ]
  },
  {
   "cell_type": "code",
   "execution_count": null,
   "metadata": {},
   "outputs": [],
   "source": [
    "# Linear SVC\n",
    "Linear_svc = LinearSVC()\n",
    "Linear_svc.fit(X_Train,Y_Train)\n",
    "Y_pred = Linear_svc.predict(X_Test)\n",
    "accLinearSVC = round(Linear_svc.score(X_Train,Y_Train)*100,2)\n",
    "accLinearSVC"
   ]
  },
  {
   "cell_type": "code",
   "execution_count": null,
   "metadata": {},
   "outputs": [],
   "source": []
  },
  {
   "cell_type": "code",
   "execution_count": null,
   "metadata": {},
   "outputs": [],
   "source": [
    "# Stochastic Gradient Descent\n",
    "sgd = SGDClassifier()\n",
    "sgd.fit(X_Train, Y_Train)\n",
    "Y_pred = sgd.predict(X_Test)\n",
    "acc_sgd = round(sgd.score(X_Train, Y_Train) * 100, 2)\n",
    "acc_sgd\n"
   ]
  },
  {
   "cell_type": "markdown",
   "metadata": {},
   "source": [
    "This model uses a decision tree as a predictive model which maps features (tree branches) to conclusions about the target value (tree leaves). Tree models where the target variable can take a finite set of values are called classification trees; in these tree structures, leaves represent class labels and branches represent conjunctions of features that lead to those class labels. Decision trees where the target variable can take continuous values (typically real numbers) are called regression trees. Reference Wikipedia.\n",
    "\n",
    "The model confidence score is the highest among models evaluated so far."
   ]
  },
  {
   "cell_type": "code",
   "execution_count": null,
   "metadata": {},
   "outputs": [],
   "source": [
    "# Decision Tree\n",
    "\n",
    "decision_tree = DecisionTreeClassifier()\n",
    "decision_tree.fit(X_Train, Y_Train)\n",
    "Y_pred = decision_tree.predict(X_Test)\n",
    "acc_decision_tree = round(decision_tree.score(X_Train, Y_Train) * 100, 2)\n",
    "acc_decision_tree"
   ]
  },
  {
   "cell_type": "markdown",
   "metadata": {},
   "source": [
    "The next model Random Forests is one of the most popular. Random forests or random decision forests are an ensemble learning method for classification, regression and other tasks, that operate by constructing a multitude of decision trees (n_estimators=100) at training time and outputting the class that is the mode of the classes (classification) or mean prediction (regression) of the individual trees. Reference Wikipedia.\n",
    "\n",
    "The model confidence score is the highest among models evaluated so far. We decide to use this model's output (Y_pred) for creating our competition submission of results."
   ]
  },
  {
   "cell_type": "code",
   "execution_count": null,
   "metadata": {},
   "outputs": [],
   "source": [
    "# Random Forest\n",
    "\n",
    "random_forest = RandomForestClassifier(n_estimators=100)\n",
    "random_forest.fit(X_Train, Y_Train)\n",
    "Y_pred = random_forest.predict(X_Test)\n",
    "random_forest.score(X_Train, Y_Train)\n",
    "acc_random_forest = round(random_forest.score(X_Train, Y_Train) * 100, 2)\n",
    "acc_random_forest"
   ]
  },
  {
   "cell_type": "markdown",
   "metadata": {},
   "source": [
    "Model evaluation\n",
    "\n",
    "We can now rank our evaluation of all the models to choose the best one for our problem. While both Decision Tree and Random Forest score the same, we choose to use Random Forest as they correct for decision trees' habit of overfitting to their training set."
   ]
  },
  {
   "cell_type": "code",
   "execution_count": null,
   "metadata": {},
   "outputs": [],
   "source": [
    "models = pd.DataFrame({\n",
    "    'Model': ['Support Vector Machines', 'KNN', 'Logistic Regression', \n",
    "              'Random Forest', 'Naive Bayes', 'Perceptron', \n",
    "              'Stochastic Gradient Decent', 'Linear SVC', \n",
    "              'Decision Tree'],\n",
    "    'Score': [acc_svc, acc_knn, acc_log, \n",
    "              acc_random_forest, acc_gaussian, acc_Percep, \n",
    "              acc_sgd, acc_linear_svc, acc_decision_tree]})\n",
    "models.sort_values(by='Score', ascending=False)"
   ]
  },
  {
   "cell_type": "code",
   "execution_count": null,
   "metadata": {},
   "outputs": [],
   "source": [
    "submission = pd.DataFrame({\n",
    "        \"PassengerId\": data_test[\"Pid\"],\n",
    "        \"Survived\": Y_pred\n",
    "    })\n",
    "submission.to_csv('Titanic-project-kaggle/submission_Kaggle.csv', index=False)"
   ]
  },
  {
   "cell_type": "code",
   "execution_count": null,
   "metadata": {},
   "outputs": [],
   "source": []
  },
  {
   "cell_type": "code",
   "execution_count": null,
   "metadata": {},
   "outputs": [],
   "source": []
  },
  {
   "cell_type": "code",
   "execution_count": null,
   "metadata": {},
   "outputs": [],
   "source": []
  },
  {
   "cell_type": "code",
   "execution_count": null,
   "metadata": {},
   "outputs": [],
   "source": []
  }
 ],
 "metadata": {
  "kernelspec": {
   "display_name": "Python 3",
   "language": "python",
   "name": "python3"
  },
  "language_info": {
   "codemirror_mode": {
    "name": "ipython",
    "version": 3
   },
   "file_extension": ".py",
   "mimetype": "text/x-python",
   "name": "python",
   "nbconvert_exporter": "python",
   "pygments_lexer": "ipython3",
   "version": "3.7.4"
  }
 },
 "nbformat": 4,
 "nbformat_minor": 2
}
